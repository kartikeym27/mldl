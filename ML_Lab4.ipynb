{
  "nbformat": 4,
  "nbformat_minor": 0,
  "metadata": {
    "colab": {
      "provenance": []
    },
    "kernelspec": {
      "name": "python3",
      "display_name": "Python 3"
    },
    "language_info": {
      "name": "python"
    }
  },
  "cells": [
    {
      "cell_type": "code",
      "execution_count": null,
      "metadata": {
        "id": "wzbEVR7hILd_"
      },
      "outputs": [],
      "source": [
        "import pandas as pd\n",
        "from sklearn.model_selection import train_test_split\n",
        "from sklearn.preprocessing import StandardScaler\n",
        "from tensorflow.keras.models import Sequential\n",
        "from tensorflow.keras.layers import Dense\n",
        "from tensorflow.keras.optimizers import Adam\n",
        "from sklearn.metrics import accuracy_score,precision_score, recall_score, confusion_matrix\n"
      ]
    },
    {
      "cell_type": "code",
      "source": [
        "df = pd.read_csv('Covid_dataset.csv')"
      ],
      "metadata": {
        "id": "XUoxvGKEIO6Z"
      },
      "execution_count": null,
      "outputs": []
    },
    {
      "cell_type": "code",
      "source": [
        "X = df[['fever', 'bodyPain', 'age', 'runnyNose', 'diffBreath']]\n",
        "y = df['infectionProb']\n"
      ],
      "metadata": {
        "id": "76Y9p5K4IO8f"
      },
      "execution_count": null,
      "outputs": []
    },
    {
      "cell_type": "code",
      "source": [
        "X_train, X_test, y_train, y_test = train_test_split(X, y, test_size=0.3, random_state=42)\n"
      ],
      "metadata": {
        "id": "MC0wc1tcIO_A"
      },
      "execution_count": null,
      "outputs": []
    },
    {
      "cell_type": "code",
      "source": [
        "scaler = StandardScaler()\n",
        "X_train = scaler.fit_transform(X_train)\n",
        "X_test = scaler.transform(X_test)"
      ],
      "metadata": {
        "id": "vFwKfbq-IPBt"
      },
      "execution_count": null,
      "outputs": []
    },
    {
      "cell_type": "code",
      "source": [
        "X_train"
      ],
      "metadata": {
        "colab": {
          "base_uri": "https://localhost:8080/"
        },
        "id": "i3dO26hvIwiv",
        "outputId": "53cbe741-60c7-4aea-d80a-7b689760c8c7"
      },
      "execution_count": null,
      "outputs": [
        {
          "output_type": "execute_result",
          "data": {
            "text/plain": [
              "array([[ 0.03343109,  1.01678909, -1.65269035,  0.98348813, -0.00541337],\n",
              "       [-0.97061604, -0.98348813,  0.44825945, -1.01678909,  1.21394804],\n",
              "       [-0.97061604, -0.98348813,  0.27605045,  0.98348813, -1.22477478],\n",
              "       ...,\n",
              "       [-1.4726396 ,  1.01678909,  1.65372246, -1.01678909,  1.21394804],\n",
              "       [-1.4726396 , -0.98348813,  1.44707166, -1.01678909, -1.22477478],\n",
              "       [-1.4726396 , -0.98348813,  0.20716685, -1.01678909,  1.21394804]])"
            ]
          },
          "metadata": {},
          "execution_count": 6
        }
      ]
    },
    {
      "cell_type": "code",
      "source": [
        "X_test"
      ],
      "metadata": {
        "colab": {
          "base_uri": "https://localhost:8080/"
        },
        "id": "ObpMZq-VIxim",
        "outputId": "95b7f857-2468-49a1-f9c3-20fd85b6186d"
      },
      "execution_count": null,
      "outputs": [
        {
          "output_type": "execute_result",
          "data": {
            "text/plain": [
              "array([[-1.4726396 , -0.98348813, -0.55055275,  0.98348813,  1.21394804],\n",
              "       [ 1.53950178, -0.98348813, -1.06717975, -1.01678909, -1.22477478],\n",
              "       [-0.97061604,  1.01678909, -0.68831995, -1.01678909, -0.00541337],\n",
              "       ...,\n",
              "       [-0.46859247,  1.01678909,  0.20716685,  0.98348813,  1.21394804],\n",
              "       [-0.46859247,  1.01678909, -1.23938875,  0.98348813,  1.21394804],\n",
              "       [-1.4726396 ,  1.01678909,  0.20716685,  0.98348813,  1.21394804]])"
            ]
          },
          "metadata": {},
          "execution_count": 7
        }
      ]
    },
    {
      "cell_type": "code",
      "source": [
        "model = Sequential()\n",
        "model.add(Dense(12, input_dim=5, activation='relu'))\n",
        "model.add(Dense(8, activation='relu'))\n",
        "model.add(Dense(1, activation='sigmoid'))\n",
        "\n",
        "model.compile(loss='binary_crossentropy', optimizer=Adam(), metrics=['accuracy'])\n",
        "\n",
        "history = model.fit(X_train, y_train, epochs=50, batch_size=10, validation_split=0.1)\n",
        "\n",
        "loss, accuracy = model.evaluate(X_test, y_test)\n",
        "print(f'Accuracy: {accuracy * 100:.2f}%')\n"
      ],
      "metadata": {
        "colab": {
          "base_uri": "https://localhost:8080/"
        },
        "id": "vpVtc9DdIPGm",
        "outputId": "4cfa5b78-051e-4bee-b7c0-415960276ece"
      },
      "execution_count": null,
      "outputs": [
        {
          "output_type": "stream",
          "name": "stderr",
          "text": [
            "/usr/local/lib/python3.10/dist-packages/keras/src/layers/core/dense.py:87: UserWarning: Do not pass an `input_shape`/`input_dim` argument to a layer. When using Sequential models, prefer using an `Input(shape)` object as the first layer in the model instead.\n",
            "  super().__init__(activity_regularizer=activity_regularizer, **kwargs)\n"
          ]
        },
        {
          "output_type": "stream",
          "name": "stdout",
          "text": [
            "Epoch 1/50\n",
            "\u001b[1m163/163\u001b[0m \u001b[32m━━━━━━━━━━━━━━━━━━━━\u001b[0m\u001b[37m\u001b[0m \u001b[1m6s\u001b[0m 8ms/step - accuracy: 0.4937 - loss: 0.7255 - val_accuracy: 0.5359 - val_loss: 0.6887\n",
            "Epoch 2/50\n",
            "\u001b[1m163/163\u001b[0m \u001b[32m━━━━━━━━━━━━━━━━━━━━\u001b[0m\u001b[37m\u001b[0m \u001b[1m1s\u001b[0m 5ms/step - accuracy: 0.5140 - loss: 0.6942 - val_accuracy: 0.5580 - val_loss: 0.6865\n",
            "Epoch 3/50\n",
            "\u001b[1m163/163\u001b[0m \u001b[32m━━━━━━━━━━━━━━━━━━━━\u001b[0m\u001b[37m\u001b[0m \u001b[1m1s\u001b[0m 6ms/step - accuracy: 0.5118 - loss: 0.6950 - val_accuracy: 0.5580 - val_loss: 0.6867\n",
            "Epoch 4/50\n",
            "\u001b[1m163/163\u001b[0m \u001b[32m━━━━━━━━━━━━━━━━━━━━\u001b[0m\u001b[37m\u001b[0m \u001b[1m1s\u001b[0m 4ms/step - accuracy: 0.5264 - loss: 0.6915 - val_accuracy: 0.5635 - val_loss: 0.6852\n",
            "Epoch 5/50\n",
            "\u001b[1m163/163\u001b[0m \u001b[32m━━━━━━━━━━━━━━━━━━━━\u001b[0m\u001b[37m\u001b[0m \u001b[1m1s\u001b[0m 5ms/step - accuracy: 0.5355 - loss: 0.6899 - val_accuracy: 0.5635 - val_loss: 0.6856\n",
            "Epoch 6/50\n",
            "\u001b[1m163/163\u001b[0m \u001b[32m━━━━━━━━━━━━━━━━━━━━\u001b[0m\u001b[37m\u001b[0m \u001b[1m1s\u001b[0m 5ms/step - accuracy: 0.5295 - loss: 0.6890 - val_accuracy: 0.5691 - val_loss: 0.6842\n",
            "Epoch 7/50\n",
            "\u001b[1m163/163\u001b[0m \u001b[32m━━━━━━━━━━━━━━━━━━━━\u001b[0m\u001b[37m\u001b[0m \u001b[1m1s\u001b[0m 4ms/step - accuracy: 0.5403 - loss: 0.6893 - val_accuracy: 0.5414 - val_loss: 0.6850\n",
            "Epoch 8/50\n",
            "\u001b[1m163/163\u001b[0m \u001b[32m━━━━━━━━━━━━━━━━━━━━\u001b[0m\u001b[37m\u001b[0m \u001b[1m1s\u001b[0m 6ms/step - accuracy: 0.5446 - loss: 0.6887 - val_accuracy: 0.5470 - val_loss: 0.6844\n",
            "Epoch 9/50\n",
            "\u001b[1m163/163\u001b[0m \u001b[32m━━━━━━━━━━━━━━━━━━━━\u001b[0m\u001b[37m\u001b[0m \u001b[1m1s\u001b[0m 7ms/step - accuracy: 0.5524 - loss: 0.6859 - val_accuracy: 0.5635 - val_loss: 0.6847\n",
            "Epoch 10/50\n",
            "\u001b[1m163/163\u001b[0m \u001b[32m━━━━━━━━━━━━━━━━━━━━\u001b[0m\u001b[37m\u001b[0m \u001b[1m1s\u001b[0m 6ms/step - accuracy: 0.5711 - loss: 0.6863 - val_accuracy: 0.5580 - val_loss: 0.6845\n",
            "Epoch 11/50\n",
            "\u001b[1m163/163\u001b[0m \u001b[32m━━━━━━━━━━━━━━━━━━━━\u001b[0m\u001b[37m\u001b[0m \u001b[1m1s\u001b[0m 7ms/step - accuracy: 0.5639 - loss: 0.6867 - val_accuracy: 0.5691 - val_loss: 0.6834\n",
            "Epoch 12/50\n",
            "\u001b[1m163/163\u001b[0m \u001b[32m━━━━━━━━━━━━━━━━━━━━\u001b[0m\u001b[37m\u001b[0m \u001b[1m1s\u001b[0m 4ms/step - accuracy: 0.5367 - loss: 0.6874 - val_accuracy: 0.5580 - val_loss: 0.6842\n",
            "Epoch 13/50\n",
            "\u001b[1m163/163\u001b[0m \u001b[32m━━━━━━━━━━━━━━━━━━━━\u001b[0m\u001b[37m\u001b[0m \u001b[1m1s\u001b[0m 2ms/step - accuracy: 0.5581 - loss: 0.6862 - val_accuracy: 0.5691 - val_loss: 0.6820\n",
            "Epoch 14/50\n",
            "\u001b[1m163/163\u001b[0m \u001b[32m━━━━━━━━━━━━━━━━━━━━\u001b[0m\u001b[37m\u001b[0m \u001b[1m1s\u001b[0m 3ms/step - accuracy: 0.5562 - loss: 0.6861 - val_accuracy: 0.5912 - val_loss: 0.6818\n",
            "Epoch 15/50\n",
            "\u001b[1m163/163\u001b[0m \u001b[32m━━━━━━━━━━━━━━━━━━━━\u001b[0m\u001b[37m\u001b[0m \u001b[1m0s\u001b[0m 2ms/step - accuracy: 0.5459 - loss: 0.6876 - val_accuracy: 0.5856 - val_loss: 0.6813\n",
            "Epoch 16/50\n",
            "\u001b[1m163/163\u001b[0m \u001b[32m━━━━━━━━━━━━━━━━━━━━\u001b[0m\u001b[37m\u001b[0m \u001b[1m1s\u001b[0m 2ms/step - accuracy: 0.5527 - loss: 0.6848 - val_accuracy: 0.5635 - val_loss: 0.6824\n",
            "Epoch 17/50\n",
            "\u001b[1m163/163\u001b[0m \u001b[32m━━━━━━━━━━━━━━━━━━━━\u001b[0m\u001b[37m\u001b[0m \u001b[1m1s\u001b[0m 2ms/step - accuracy: 0.5844 - loss: 0.6835 - val_accuracy: 0.5912 - val_loss: 0.6819\n",
            "Epoch 18/50\n",
            "\u001b[1m163/163\u001b[0m \u001b[32m━━━━━━━━━━━━━━━━━━━━\u001b[0m\u001b[37m\u001b[0m \u001b[1m0s\u001b[0m 2ms/step - accuracy: 0.5728 - loss: 0.6834 - val_accuracy: 0.5635 - val_loss: 0.6834\n",
            "Epoch 19/50\n",
            "\u001b[1m163/163\u001b[0m \u001b[32m━━━━━━━━━━━━━━━━━━━━\u001b[0m\u001b[37m\u001b[0m \u001b[1m1s\u001b[0m 2ms/step - accuracy: 0.5599 - loss: 0.6838 - val_accuracy: 0.5525 - val_loss: 0.6824\n",
            "Epoch 20/50\n",
            "\u001b[1m163/163\u001b[0m \u001b[32m━━━━━━━━━━━━━━━━━━━━\u001b[0m\u001b[37m\u001b[0m \u001b[1m1s\u001b[0m 2ms/step - accuracy: 0.5401 - loss: 0.6866 - val_accuracy: 0.5635 - val_loss: 0.6816\n",
            "Epoch 21/50\n",
            "\u001b[1m163/163\u001b[0m \u001b[32m━━━━━━━━━━━━━━━━━━━━\u001b[0m\u001b[37m\u001b[0m \u001b[1m1s\u001b[0m 2ms/step - accuracy: 0.5691 - loss: 0.6861 - val_accuracy: 0.5470 - val_loss: 0.6828\n",
            "Epoch 22/50\n",
            "\u001b[1m163/163\u001b[0m \u001b[32m━━━━━━━━━━━━━━━━━━━━\u001b[0m\u001b[37m\u001b[0m \u001b[1m0s\u001b[0m 2ms/step - accuracy: 0.5794 - loss: 0.6799 - val_accuracy: 0.5525 - val_loss: 0.6828\n",
            "Epoch 23/50\n",
            "\u001b[1m163/163\u001b[0m \u001b[32m━━━━━━━━━━━━━━━━━━━━\u001b[0m\u001b[37m\u001b[0m \u001b[1m1s\u001b[0m 2ms/step - accuracy: 0.5891 - loss: 0.6809 - val_accuracy: 0.5801 - val_loss: 0.6827\n",
            "Epoch 24/50\n",
            "\u001b[1m163/163\u001b[0m \u001b[32m━━━━━━━━━━━━━━━━━━━━\u001b[0m\u001b[37m\u001b[0m \u001b[1m0s\u001b[0m 2ms/step - accuracy: 0.5601 - loss: 0.6834 - val_accuracy: 0.5801 - val_loss: 0.6824\n",
            "Epoch 25/50\n",
            "\u001b[1m163/163\u001b[0m \u001b[32m━━━━━━━━━━━━━━━━━━━━\u001b[0m\u001b[37m\u001b[0m \u001b[1m0s\u001b[0m 2ms/step - accuracy: 0.5667 - loss: 0.6810 - val_accuracy: 0.5635 - val_loss: 0.6821\n",
            "Epoch 26/50\n",
            "\u001b[1m163/163\u001b[0m \u001b[32m━━━━━━━━━━━━━━━━━━━━\u001b[0m\u001b[37m\u001b[0m \u001b[1m1s\u001b[0m 2ms/step - accuracy: 0.5641 - loss: 0.6848 - val_accuracy: 0.5635 - val_loss: 0.6813\n",
            "Epoch 27/50\n",
            "\u001b[1m163/163\u001b[0m \u001b[32m━━━━━━━━━━━━━━━━━━━━\u001b[0m\u001b[37m\u001b[0m \u001b[1m1s\u001b[0m 2ms/step - accuracy: 0.5786 - loss: 0.6822 - val_accuracy: 0.5580 - val_loss: 0.6815\n",
            "Epoch 28/50\n",
            "\u001b[1m163/163\u001b[0m \u001b[32m━━━━━━━━━━━━━━━━━━━━\u001b[0m\u001b[37m\u001b[0m \u001b[1m1s\u001b[0m 2ms/step - accuracy: 0.5826 - loss: 0.6809 - val_accuracy: 0.5635 - val_loss: 0.6823\n",
            "Epoch 29/50\n",
            "\u001b[1m163/163\u001b[0m \u001b[32m━━━━━━━━━━━━━━━━━━━━\u001b[0m\u001b[37m\u001b[0m \u001b[1m1s\u001b[0m 3ms/step - accuracy: 0.5880 - loss: 0.6801 - val_accuracy: 0.5525 - val_loss: 0.6821\n",
            "Epoch 30/50\n",
            "\u001b[1m163/163\u001b[0m \u001b[32m━━━━━━━━━━━━━━━━━━━━\u001b[0m\u001b[37m\u001b[0m \u001b[1m1s\u001b[0m 4ms/step - accuracy: 0.5686 - loss: 0.6815 - val_accuracy: 0.5635 - val_loss: 0.6815\n",
            "Epoch 31/50\n",
            "\u001b[1m163/163\u001b[0m \u001b[32m━━━━━━━━━━━━━━━━━━━━\u001b[0m\u001b[37m\u001b[0m \u001b[1m1s\u001b[0m 3ms/step - accuracy: 0.5795 - loss: 0.6823 - val_accuracy: 0.5746 - val_loss: 0.6790\n",
            "Epoch 32/50\n",
            "\u001b[1m163/163\u001b[0m \u001b[32m━━━━━━━━━━━━━━━━━━━━\u001b[0m\u001b[37m\u001b[0m \u001b[1m1s\u001b[0m 3ms/step - accuracy: 0.5834 - loss: 0.6785 - val_accuracy: 0.5746 - val_loss: 0.6803\n",
            "Epoch 33/50\n",
            "\u001b[1m163/163\u001b[0m \u001b[32m━━━━━━━━━━━━━━━━━━━━\u001b[0m\u001b[37m\u001b[0m \u001b[1m1s\u001b[0m 4ms/step - accuracy: 0.5685 - loss: 0.6812 - val_accuracy: 0.5580 - val_loss: 0.6798\n",
            "Epoch 34/50\n",
            "\u001b[1m163/163\u001b[0m \u001b[32m━━━━━━━━━━━━━━━━━━━━\u001b[0m\u001b[37m\u001b[0m \u001b[1m1s\u001b[0m 2ms/step - accuracy: 0.5934 - loss: 0.6786 - val_accuracy: 0.5525 - val_loss: 0.6802\n",
            "Epoch 35/50\n",
            "\u001b[1m163/163\u001b[0m \u001b[32m━━━━━━━━━━━━━━━━━━━━\u001b[0m\u001b[37m\u001b[0m \u001b[1m1s\u001b[0m 2ms/step - accuracy: 0.5765 - loss: 0.6783 - val_accuracy: 0.5580 - val_loss: 0.6802\n",
            "Epoch 36/50\n",
            "\u001b[1m163/163\u001b[0m \u001b[32m━━━━━━━━━━━━━━━━━━━━\u001b[0m\u001b[37m\u001b[0m \u001b[1m1s\u001b[0m 2ms/step - accuracy: 0.5803 - loss: 0.6789 - val_accuracy: 0.5635 - val_loss: 0.6800\n",
            "Epoch 37/50\n",
            "\u001b[1m163/163\u001b[0m \u001b[32m━━━━━━━━━━━━━━━━━━━━\u001b[0m\u001b[37m\u001b[0m \u001b[1m1s\u001b[0m 2ms/step - accuracy: 0.5762 - loss: 0.6793 - val_accuracy: 0.5635 - val_loss: 0.6798\n",
            "Epoch 38/50\n",
            "\u001b[1m163/163\u001b[0m \u001b[32m━━━━━━━━━━━━━━━━━━━━\u001b[0m\u001b[37m\u001b[0m \u001b[1m0s\u001b[0m 2ms/step - accuracy: 0.5884 - loss: 0.6755 - val_accuracy: 0.5525 - val_loss: 0.6808\n",
            "Epoch 39/50\n",
            "\u001b[1m163/163\u001b[0m \u001b[32m━━━━━━━━━━━━━━━━━━━━\u001b[0m\u001b[37m\u001b[0m \u001b[1m1s\u001b[0m 2ms/step - accuracy: 0.5793 - loss: 0.6775 - val_accuracy: 0.5801 - val_loss: 0.6790\n",
            "Epoch 40/50\n",
            "\u001b[1m163/163\u001b[0m \u001b[32m━━━━━━━━━━━━━━━━━━━━\u001b[0m\u001b[37m\u001b[0m \u001b[1m1s\u001b[0m 2ms/step - accuracy: 0.5775 - loss: 0.6788 - val_accuracy: 0.5359 - val_loss: 0.6778\n",
            "Epoch 41/50\n",
            "\u001b[1m163/163\u001b[0m \u001b[32m━━━━━━━━━━━━━━━━━━━━\u001b[0m\u001b[37m\u001b[0m \u001b[1m1s\u001b[0m 2ms/step - accuracy: 0.5711 - loss: 0.6818 - val_accuracy: 0.5635 - val_loss: 0.6796\n",
            "Epoch 42/50\n",
            "\u001b[1m163/163\u001b[0m \u001b[32m━━━━━━━━━━━━━━━━━━━━\u001b[0m\u001b[37m\u001b[0m \u001b[1m1s\u001b[0m 2ms/step - accuracy: 0.5716 - loss: 0.6834 - val_accuracy: 0.5691 - val_loss: 0.6776\n",
            "Epoch 43/50\n",
            "\u001b[1m163/163\u001b[0m \u001b[32m━━━━━━━━━━━━━━━━━━━━\u001b[0m\u001b[37m\u001b[0m \u001b[1m1s\u001b[0m 2ms/step - accuracy: 0.5851 - loss: 0.6769 - val_accuracy: 0.5746 - val_loss: 0.6763\n",
            "Epoch 44/50\n",
            "\u001b[1m163/163\u001b[0m \u001b[32m━━━━━━━━━━━━━━━━━━━━\u001b[0m\u001b[37m\u001b[0m \u001b[1m1s\u001b[0m 2ms/step - accuracy: 0.5501 - loss: 0.6847 - val_accuracy: 0.5746 - val_loss: 0.6768\n",
            "Epoch 45/50\n",
            "\u001b[1m163/163\u001b[0m \u001b[32m━━━━━━━━━━━━━━━━━━━━\u001b[0m\u001b[37m\u001b[0m \u001b[1m0s\u001b[0m 2ms/step - accuracy: 0.5877 - loss: 0.6763 - val_accuracy: 0.5635 - val_loss: 0.6810\n",
            "Epoch 46/50\n",
            "\u001b[1m163/163\u001b[0m \u001b[32m━━━━━━━━━━━━━━━━━━━━\u001b[0m\u001b[37m\u001b[0m \u001b[1m1s\u001b[0m 2ms/step - accuracy: 0.5810 - loss: 0.6760 - val_accuracy: 0.5580 - val_loss: 0.6783\n",
            "Epoch 47/50\n",
            "\u001b[1m163/163\u001b[0m \u001b[32m━━━━━━━━━━━━━━━━━━━━\u001b[0m\u001b[37m\u001b[0m \u001b[1m1s\u001b[0m 2ms/step - accuracy: 0.5629 - loss: 0.6820 - val_accuracy: 0.5580 - val_loss: 0.6805\n",
            "Epoch 48/50\n",
            "\u001b[1m163/163\u001b[0m \u001b[32m━━━━━━━━━━━━━━━━━━━━\u001b[0m\u001b[37m\u001b[0m \u001b[1m1s\u001b[0m 2ms/step - accuracy: 0.5890 - loss: 0.6752 - val_accuracy: 0.5746 - val_loss: 0.6789\n",
            "Epoch 49/50\n",
            "\u001b[1m163/163\u001b[0m \u001b[32m━━━━━━━━━━━━━━━━━━━━\u001b[0m\u001b[37m\u001b[0m \u001b[1m1s\u001b[0m 2ms/step - accuracy: 0.5756 - loss: 0.6741 - val_accuracy: 0.5635 - val_loss: 0.6794\n",
            "Epoch 50/50\n",
            "\u001b[1m163/163\u001b[0m \u001b[32m━━━━━━━━━━━━━━━━━━━━\u001b[0m\u001b[37m\u001b[0m \u001b[1m1s\u001b[0m 3ms/step - accuracy: 0.5879 - loss: 0.6745 - val_accuracy: 0.5635 - val_loss: 0.6822\n",
            "\u001b[1m25/25\u001b[0m \u001b[32m━━━━━━━━━━━━━━━━━━━━\u001b[0m\u001b[37m\u001b[0m \u001b[1m0s\u001b[0m 3ms/step - accuracy: 0.5278 - loss: 0.7044\n",
            "Accuracy: 52.39%\n"
          ]
        }
      ]
    },
    {
      "cell_type": "code",
      "source": [
        "y_pred = (model.predict(X_test) > 0.5).astype(int)\n",
        "\n",
        "accuracy = accuracy_score(y_test, y_pred)\n",
        "precision = precision_score(y_test, y_pred)\n",
        "recall = recall_score(y_test, y_pred)\n",
        "\n",
        "print(f'Accuracy: {accuracy:.2f}')\n",
        "print(f'Precision: {precision:.2f}')\n",
        "print(f'Recall: {recall:.2f}')\n",
        "\n",
        "cm = confusion_matrix(y_test, y_pred)\n",
        "print('Confusion Matrix:')\n",
        "print(cm)\n"
      ],
      "metadata": {
        "colab": {
          "base_uri": "https://localhost:8080/"
        },
        "id": "YPh0UxbEIPJ-",
        "outputId": "9937338e-0e94-4dbc-9643-e2394335d169"
      },
      "execution_count": null,
      "outputs": [
        {
          "output_type": "stream",
          "name": "stdout",
          "text": [
            "\u001b[1m25/25\u001b[0m \u001b[32m━━━━━━━━━━━━━━━━━━━━\u001b[0m\u001b[37m\u001b[0m \u001b[1m0s\u001b[0m 2ms/step \n",
            "Accuracy: 0.52\n",
            "Precision: 0.50\n",
            "Recall: 0.55\n",
            "Confusion Matrix:\n",
            "[[201 201]\n",
            " [167 204]]\n"
          ]
        }
      ]
    }
  ]
}