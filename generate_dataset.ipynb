{
  "nbformat": 4,
  "nbformat_minor": 0,
  "metadata": {
    "colab": {
      "provenance": []
    },
    "kernelspec": {
      "name": "python3",
      "display_name": "Python 3"
    },
    "language_info": {
      "name": "python"
    }
  },
  "cells": [
    {
      "cell_type": "code",
      "execution_count": null,
      "metadata": {
        "id": "XEom341-iJdQ"
      },
      "outputs": [],
      "source": [
        "import pandas as pd\n",
        "import numpy as np\n",
        "from datetime import datetime, timedelta\n",
        "import random\n",
        "import string\n",
        "\n",
        "def generate_random_dataset(column_specs, num_rows=100):\n",
        "\n",
        "    data = {}\n",
        "    np.random.seed(42)\n",
        "\n",
        "    for column, specs in column_specs.items():\n",
        "        data_type = specs['type']\n",
        "\n",
        "        if data_type == 'int':\n",
        "            low, high = specs.get('range', (0, 100))\n",
        "            data[column] = np.random.randint(low, high, num_rows)\n",
        "\n",
        "        elif data_type == 'float':\n",
        "            low, high = specs.get('range', (0.0, 1.0))\n",
        "            data[column] = np.random.uniform(low, high, num_rows)\n",
        "\n",
        "        elif data_type == 'category':\n",
        "            categories = specs.get('categories', ['A', 'B', 'C'])\n",
        "            data[column] = np.random.choice(categories, num_rows)\n",
        "\n",
        "        elif data_type == 'date':\n",
        "            start_date = specs.get('start', datetime(2000, 1, 1))\n",
        "            end_date = specs.get('end', datetime.now())\n",
        "            delta_days = (end_date - start_date).days\n",
        "            data[column] = [start_date + timedelta(days=random.randint(0, delta_days)) for _ in range(num_rows)]\n",
        "\n",
        "        elif data_type == 'bool':\n",
        "            data[column] = np.random.choice([True, False], num_rows)\n",
        "\n",
        "        elif data_type == 'string':\n",
        "            length = specs.get('length', 5)\n",
        "            data[column] = [''.join(random.choices(string.ascii_letters + string.digits, k=length)) for _ in range(num_rows)]\n",
        "\n",
        "        elif data_type == 'char':\n",
        "            chars = specs.get('chars', string.ascii_letters)\n",
        "            data[column] = [random.choice(chars) for _ in range(num_rows)]\n",
        "\n",
        "        else:\n",
        "            raise ValueError(f\"Unsupported data type '{data_type}' for column '{column}'\")\n",
        "\n",
        "    return pd.DataFrame(data)\n",
        "\n",
        "column_specs = {\n",
        "    \"age\": {\"type\": \"int\", \"range\": (18, 65)},\n",
        "    \"salary\": {\"type\": \"float\", \"range\": (30000.0, 120000.0)},\n",
        "    \"city\": {\"type\": \"category\", \"categories\": [\"New York\", \"Los Angeles\", \"Chicago\", \"Houston\"]},\n",
        "    \"date_joined\": {\"type\": \"date\", \"start\": datetime(2010, 1, 1), \"end\": datetime.now()},\n",
        "    \"is_active\": {\"type\": \"bool\"},\n",
        "    \"username\": {\"type\": \"string\", \"length\": 8},\n",
        "    \"initial\": {\"type\": \"char\", \"chars\": string.ascii_uppercase}\n",
        "}\n",
        "\n",
        "df = generate_random_dataset(column_specs, num_rows=100)\n",
        "\n",
        "print(df.head())\n",
        "\n",
        "df.to_csv(\"random_dataset.csv\", index=False)"
      ]
    }
  ]
}